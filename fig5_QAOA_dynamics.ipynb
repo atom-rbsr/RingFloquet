{
 "cells": [
  {
   "cell_type": "code",
   "execution_count": 1,
   "id": "175c921a-46c7-4771-908c-b1a0fc1d7adb",
   "metadata": {},
   "outputs": [],
   "source": [
    "import matplotlib.pyplot as plt # plotting library\n",
    "from quspin.operators import hamiltonian # Hamiltonians and operators\n",
    "from quspin.basis import spin_basis_1d # Hilbert space spin basis\n",
    "import numpy as np # generic math functions\n",
    "from scipy import interpolate"
   ]
  },
  {
   "cell_type": "code",
   "execution_count": 2,
   "id": "3c1ee345-3a0f-408b-8bad-0aa12c46a68d",
   "metadata": {},
   "outputs": [],
   "source": [
    "def period(n):\n",
    "    fib_list = [\"a\", \"b\"]*n\n",
    "    return fib_list\n",
    "\n",
    "def period(n):\n",
    "    fib_list = [\"a\", \"b\"]*n\n",
    "    return fib_list\n",
    "\n",
    "def mutual(a,b,psi):\n",
    "    a=[a,a+1]\n",
    "    b=[b,b+1]\n",
    "    ab=np.hstack((a,b))\n",
    "    Sent=basis.ent_entropy(psi,sub_sys_A=a,\n",
    "                                return_rdm=None,density=False,alpha=1.0,sparse_diag=False)\n",
    "    sa=(Sent.get('Sent_A'))\n",
    "    Sent=basis.ent_entropy(psi,sub_sys_A=b,\n",
    "                                return_rdm=None,density=False,alpha=1.0,sparse_diag=False)\n",
    "    sb=(Sent.get('Sent_A'))\n",
    "    Sent=basis.ent_entropy(psi,sub_sys_A=ab,\n",
    "                                return_rdm=None,density=False,alpha=1.0,sparse_diag=False)\n",
    "    sab=(Sent.get('Sent_A'))\n",
    "    I=sa+sb-sab\n",
    "    \n",
    "    return I\n",
    "def lat(dx):\n",
    "    site=[]\n",
    "    for i in range(10):\n",
    "        dx=dx     \n",
    "        positions = [(2*i), 2*(i+dx)]\n",
    "        if 0 <= 2*(i+dx) < 19:\n",
    "            site.append([2*i, 2*(i+dx)])\n",
    "    return site\n",
    "def corr(psi,dx):\n",
    "    corrf=[]\n",
    "    lattice=lat(dx)\n",
    "    sizen=np.shape(lat(dx))[0]\n",
    "    for i in range(sizen):\n",
    "        #print(i)\n",
    "        Im=mutual(lattice[i][0],lattice[i][1],psi)\n",
    "        corrf.append(Im)\n",
    "        #print(Im,lattice[i][0],lattice[i][1])\n",
    "    return corrf"
   ]
  },
  {
   "cell_type": "code",
   "execution_count": 3,
   "id": "6fdaf7b7",
   "metadata": {},
   "outputs": [
    {
     "name": "stdout",
     "output_type": "stream",
     "text": [
      "3.4657359028076833\n"
     ]
    }
   ],
   "source": [
    "L=20\n",
    "Jr=1.0 # spin=spin interaction\n",
    "basis = spin_basis_1d(L,pauli=False,m=0) \n",
    "##H0\n",
    "H0=[[-Jr,  4*i,(4*i+1),(4*i+2),(4*i+3)]  for i in range(L//4)] \n",
    "no_checks = dict(check_herm=False,check_symm=False,check_pcon=False)\n",
    "# static and dynamic lists\n",
    "static=[[\"+--+\",H0],[\"-++-\",H0]]\n",
    "dynamic=[]\n",
    "###### construct Hamiltonian\n",
    "Hdeff=hamiltonian(static,dynamic,basis=basis,dtype=np.float64,**no_checks)\n",
    "va,ve=Hdeff.eigsh(k=2)\n",
    "#va,ve=Hdeff.eigh(tlisteff[5])\n",
    "psi0=ve[:,0]\n",
    "Sent=basis.ent_entropy(psi0,sub_sys_A=np.arange(L//2)*2,\n",
    "                            return_rdm=None,density=False,alpha=1.0,sparse_diag=False)\n",
    "print(Sent.get('Sent_A'))\n",
    "ent0=Sent.get('Sent_A')\n",
    "Ilist0=[]\n",
    "for iii in range(1,10):\n",
    "    Ilist0.append(np.mean(corr(psi0,iii)))\n"
   ]
  },
  {
   "cell_type": "code",
   "execution_count": 4,
   "id": "b24986ae",
   "metadata": {},
   "outputs": [
    {
     "name": "stdout",
     "output_type": "stream",
     "text": [
      "4.964959568619581\n"
     ]
    }
   ],
   "source": [
    "\n",
    "Jr=1.0 # spin=spin interaction\n",
    "basis = spin_basis_1d(L,pauli=False,m=0) \n",
    "##H0\n",
    "H0=[[-Jr,  4*i,(4*i+1),(4*i+2),(4*i+3)]  for i in range(L//4)] \n",
    "H1=[[-Jr,  4*i+2,(4*i+3),(4*i+4)%L,(4*i+5)%L]  for i in range(L//4)] \n",
    "no_checks = dict(check_herm=False,check_symm=False,check_pcon=False)\n",
    "# static and dynamic lists\n",
    "static=[[\"+--+\",H0],[\"-++-\",H0],[\"+--+\",H1],[\"-++-\",H1]]\n",
    "dynamic=[]\n",
    "###### construct Hamiltonian\n",
    "Hdeff=hamiltonian(static,dynamic,basis=basis,dtype=np.float64,**no_checks)\n",
    "va,ve=Hdeff.eigsh(k=3)\n",
    "#va,ve=Hdeff.eigh(tlisteff[5])\n",
    "psitar=ve[:,0]\n",
    "Sent=basis.ent_entropy(psitar,sub_sys_A=np.arange(L//2)*2,\n",
    "                            return_rdm=None,density=False,alpha=1.0,sparse_diag=False)\n",
    "print(Sent.get('Sent_A'))"
   ]
  },
  {
   "cell_type": "code",
   "execution_count": 5,
   "id": "d5b57390",
   "metadata": {},
   "outputs": [
    {
     "name": "stdout",
     "output_type": "stream",
     "text": [
      "i =  59 |  60,\r"
     ]
    }
   ],
   "source": [
    "\n",
    "params= [8.88026234e-01, 1.00000000e+00, 1.00000000e+00, 1.00000000e+00,\n",
    "         1.00000000e+00, 6.61164514e-01, 1.00000000e+00, 1.00000000e+00,\n",
    "         1.00000000e+00, 1.00000000e-05, 1.00000000e+00, 1.00000000e+00,\n",
    "         1.00000000e+00, 1.00000000e-05, 1.00000000e+00, 1.00000000e+00,\n",
    "         1.00000000e+00, 1.00000000e-05, 1.00000000e+00, 1.00000000e-05,\n",
    "         1.00000000e+00, 1.00000000e-05, 1.00000000e+00, 4.66891949e-03,\n",
    "         1.00000000e+00, 1.00000000e-05, 1.00000000e+00, 1.00000000e+00,\n",
    "         1.00000000e+00, 1.00000000e+00, 2.66457921e-01, 1.00000000e+00,\n",
    "         1.00000000e+00, 1.00000000e+00, 1.00000000e+00, 1.00000000e+00,\n",
    "         1.00000000e+00, 1.00000000e-05, 1.00000000e+00, 1.00000000e+00,\n",
    "         1.00000000e-05, 1.00000000e+00, 1.00000000e+00, 1.00000000e+00,\n",
    "         1.00000000e+00, 1.00000000e+00, 1.00000000e+00, 1.00000000e+00,\n",
    "         1.00000000e+00, 1.00000000e-05, 1.00000000e-05, 1.00000000e-05,\n",
    "         1.00000000e+00, 1.00000000e-05, 1.00000000e+00, 1.00000000e-05,\n",
    "         1.00000000e+00, 1.00000000e-05, 1.00000000e-05, 1.00000000e-05,]\n",
    "TT=0.1\n",
    "step=2\n",
    "order=30\n",
    "s=period(order)\n",
    "\n",
    "\n",
    "hlist=params\n",
    "\n",
    "\n",
    "\n",
    "\n",
    "\n",
    "Jr=1\n",
    "Jp=0        \n",
    "psiini=psi0\n",
    "tlist=[0]\n",
    "fidelist=[np.abs(psiini.dot(psitar))**2]\n",
    "entlist=[ent0]\n",
    "Ilist=[]\n",
    "for i in range(len(s)):\n",
    "   \n",
    "    \n",
    "    H0=[[-Jr,  4*i,(4*i+1),(4*i+2),(4*i+3)]  for i in range(L//4)] \n",
    "\n",
    "    \n",
    "    \n",
    "    H1=[[-Jr,  4*i+2,(4*i+3),(4*i+4)%L,(4*i+5)%L]  for i in range(L//4)] \n",
    "   \n",
    "    #print(H0,H1)\n",
    "    no_checks = dict(check_herm=False,check_symm=False,check_pcon=False)\n",
    "    # static and dynamic lists\n",
    "    static0=[[\"+--+\",H0],[\"-++-\",H0]]\n",
    "    static1=[[\"+--+\",H1],[\"-++-\",H1]]\n",
    "    dynamic=[]\n",
    "    ###### construct Hamiltonian\n",
    "    Hd0=hamiltonian(static0,dynamic,basis=basis,dtype=np.float64,**no_checks)\n",
    "    Hd1=hamiltonian(static1,dynamic,basis=basis,dtype=np.float64,**no_checks)\n",
    "    if i>0:\n",
    "        psiini=psi_list[:,-1]\n",
    "    if s[i] == 'a':\n",
    "        tmax0=TT*hlist[i]\n",
    "        tlist0=np.linspace(0,tmax0,step)\n",
    "        psi_list=Hd0.evolve(psiini,0,tlist0)\n",
    "        ttt=tlist[-1]+tmax0\n",
    "    \n",
    "    elif s[i] == 'b':\n",
    "        tmax1=TT*hlist[i]\n",
    "        tlist1=np.linspace(0,tmax1,step)\n",
    "        psi_list=Hd1.evolve(psiini,0,tlist1)\n",
    "        ttt=tlist[-1]+tmax1\n",
    "    psi=psi_list[:,-1]\n",
    "    fidelist.append(np.abs(psi.dot(psitar))**2)\n",
    "    dlist=[]\n",
    "    \n",
    "    for iii in range(1,10):\n",
    "        dlist.append(np.mean(corr(psi,iii)))\n",
    "    Ilist.append(dlist)\n",
    "    tlist.append(ttt)\n",
    "    Sent=basis.ent_entropy(psi,sub_sys_A=np.arange(L//2)*2,return_rdm=None,density=False,alpha=1.0,sparse_diag=False)\n",
    "    ent=(Sent.get('Sent_A'))\n",
    "    entlist.append(ent)\n",
    "    print('i = % 3d | % 3d,'%(i, len(s)),end='\\r')\n",
    "\n",
    "    \n"
   ]
  },
  {
   "cell_type": "code",
   "execution_count": 6,
   "id": "8667a5a8",
   "metadata": {},
   "outputs": [
    {
     "data": {
      "text/plain": [
       "[<matplotlib.lines.Line2D at 0x2798003f048>]"
      ]
     },
     "execution_count": 6,
     "metadata": {},
     "output_type": "execute_result"
    },
    {
     "data": {
      "image/png": "[encoded data removed]",
      "text/plain": [
       "<Figure size 432x288 with 1 Axes>"
      ]
     },
     "metadata": {
      "needs_background": "light"
     },
     "output_type": "display_data"
    }
   ],
   "source": [
    "plt.plot(tlist,fidelist)"
   ]
  },
  {
   "cell_type": "code",
   "execution_count": 9,
   "id": "6e6ca475",
   "metadata": {},
   "outputs": [
    {
     "data": {
      "text/plain": [
       "[<matplotlib.lines.Line2D at 0x2798019d3c8>]"
      ]
     },
     "execution_count": 9,
     "metadata": {},
     "output_type": "execute_result"
    },
    {
     "data": {
      "image/png": "[encoded data removed]",
      "text/plain": [
       "<Figure size 432x288 with 1 Axes>"
      ]
     },
     "metadata": {
      "needs_background": "light"
     },
     "output_type": "display_data"
    }
   ],
   "source": [
    "plt.plot(tlist,entlist)"
   ]
  },
  {
   "cell_type": "code",
   "execution_count": 18,
   "id": "a8ffae41",
   "metadata": {},
   "outputs": [],
   "source": [
    "a=[tlist,entlist,fidelist,Ilist]\n"
   ]
  },
  {
   "cell_type": "code",
   "execution_count": 21,
   "id": "7752492e",
   "metadata": {},
   "outputs": [],
   "source": [
    "np.shape(a)\n",
    "import pandas as pd\n",
    "\n",
    "\n",
    "df = pd.DataFrame(a)\n",
    "\n",
    "df.to_csv('opt_evo.csv', index=False)"
   ]
  },
  {
   "cell_type": "code",
   "execution_count": null,
   "id": "e934b7e7",
   "metadata": {},
   "outputs": [],
   "source": []
  }
 ],
 "metadata": {
  "kernelspec": {
   "display_name": "Python 3 (ipykernel)",
   "language": "python",
   "name": "python3"
  },
  "language_info": {
   "codemirror_mode": {
    "name": "ipython",
    "version": 3
   },
   "file_extension": ".py",
   "mimetype": "text/x-python",
   "name": "python",
   "nbconvert_exporter": "python",
   "pygments_lexer": "ipython3",
   "version": "3.7.13"
  }
 },
 "nbformat": 4,
 "nbformat_minor": 5
}
