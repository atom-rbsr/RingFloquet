{
 "cells": [
  {
   "cell_type": "code",
   "execution_count": 1,
   "id": "175c921a-46c7-4771-908c-b1a0fc1d7adb",
   "metadata": {},
   "outputs": [],
   "source": [
    "from quspin.operators import hamiltonian # Hamiltonians and operators\n",
    "from quspin.basis import spin_basis_1d # Hilbert space spin basis\n",
    "import numpy as np # generic math functions\n",
    "import matplotlib.pyplot as plt # plotting library"
   ]
  },
  {
   "cell_type": "code",
   "execution_count": 9,
   "id": "e9f092a8",
   "metadata": {},
   "outputs": [],
   "source": [
    "def period(n):\n",
    "    fib_list = [\"a\", \"b\"]*n\n",
    "    return fib_list\n",
    "\n",
    "L=18\n",
    "Jr=1.0 # spin=spin interaction\n",
    "h=0"
   ]
  },
  {
   "cell_type": "code",
   "execution_count": 12,
   "id": "d34f2b72",
   "metadata": {},
   "outputs": [
    {
     "name": "stdout",
     "output_type": "stream",
     "text": [
      "i =  199 |  200,\r"
     ]
    }
   ],
   "source": [
    "TT=0.1\n",
    "step=2\n",
    "order=100\n",
    "\n",
    "s=period(order)\n",
    "basis = spin_basis_1d(L,pauli=False,m=0) \n",
    "i0 = basis.index(\"010101011001010101\") # pick state from basis set\n",
    "psi01 = np.zeros(basis.Ns,dtype=np.float64)\n",
    "psi01[i0] = 1.0 # define state corresponding to the string \"111000\"\n",
    "psi0=(psi01)\n",
    "no_checks = dict(check_herm=False,check_symm=False,check_pcon=False)\n",
    "n_list = [hamiltonian([[\"z\",[[1.0,i]]]],[],basis=basis,dtype=np.float64,**no_checks) for i in range(L)]\n",
    "\n",
    "\n",
    "Jr=1# spin ring\n",
    "\n",
    "H0=[[-Jr,  4*i,(4*i+1),(4*i+2),(4*i+3)]  for i in range(L//4)] \n",
    "H1=[[-Jr,  4*i+2,(4*i+3),(4*i+4)%L,(4*i+5)%L]  for i in range(L//4)] \n",
    "H01=[[-h*i,2*i] for i in range(L//2)]\n",
    "H02=[[-h*(i+1),2*i+1] for i in range(L//2)]\n",
    "\n",
    "#print(H0,H1)\n",
    "\n",
    "# static and dynamic lists\n",
    "static0=[[\"+--+\",H0],[\"-++-\",H0], [\"z\",H01],[\"z\",H02]]\n",
    "static1=[[\"+--+\",H1],[\"-++-\",H1], [\"z\",H01],[\"z\",H02]]\n",
    "dynamic=[]\n",
    "###### construct Hamiltonian\n",
    "Hd0=hamiltonian(static0,dynamic,basis=basis,dtype=np.float64,**no_checks)\n",
    "Hd1=hamiltonian(static1,dynamic,basis=basis,dtype=np.float64,**no_checks)\n",
    "\n",
    "psitot=psi0\n",
    "psiini=psi0\n",
    "ent=[]\n",
    "fide=[]\n",
    "sd=[]\n",
    "expt_n_t_sta1=[]\n",
    "for i in range(len(s)):\n",
    "    \n",
    "    if i>0:\n",
    "        psiini=psi_list[:,-1]\n",
    "    if s[i] == 'a':\n",
    "        tmax0=TT\n",
    "        tlist0=np.linspace(0,tmax0,step)\n",
    "        s[i] = tlist0[-1]\n",
    "        psi_list=Hd0.evolve(psiini,0,tlist0)\n",
    "        #ent=[]\n",
    "        #fide=[]\n",
    "    elif s[i] == 'b':\n",
    "        tmax1=TT\n",
    "        tlist1=np.linspace(0,tmax1,step)\n",
    "        s[i] = tlist1[-1]\n",
    "        psi_list=Hd1.evolve(psiini,0,tlist1)\n",
    "        #ent=[]\n",
    "        #fide=[]\n",
    "        \n",
    "    expt_n_t_sta1.append([n.expt_value(psi_list[:,-1]).real for n in n_list])\n",
    "\n",
    "    print('i = % 3d | % 3d,'%(i, len(s)),end='\\r')\n",
    "            \n",
    "\n",
    "expt_n_t_sta1=np.mat(expt_n_t_sta1)"
   ]
  },
  {
   "cell_type": "code",
   "execution_count": 13,
   "id": "8c9d2bc3",
   "metadata": {},
   "outputs": [
    {
     "name": "stderr",
     "output_type": "stream",
     "text": [
      "C:\\Anaconda3\\envs\\quspin\\lib\\site-packages\\ipykernel_launcher.py:6: MatplotlibDeprecationWarning: For X (41) and Y (10) with flat shading, the expected shape of A is (9, 40). Passing A ((1, 360)) is deprecated since 3.5 and will become an error two minor releases later.\n",
      "  \n"
     ]
    },
    {
     "data": {
      "text/plain": [
       "(0.0, 5.0)"
      ]
     },
     "execution_count": 13,
     "metadata": {},
     "output_type": "execute_result"
    },
    {
     "data": {
      "image/png": "[encoded data removed]",
      "text/plain": [
       "<Figure size 576x432 with 1 Axes>"
      ]
     },
     "metadata": {},
     "output_type": "display_data"
    }
   ],
   "source": [
    "fig = plt.figure(figsize=[8,6],\n",
    "                 facecolor='w')\n",
    "\n",
    "ax1 = fig.add_axes([0.150,0.100,0.5,0.37])\n",
    "xm, ym = np.meshgrid(np.linspace(-0.5,20.5,41),np.linspace(-0.5,9.5,10))\n",
    "hd1=ax1.pcolormesh(xm,ym,expt_n_t_sta1.T[::2,::5],cmap='coolwarm',shading='flat')\n",
    "ax1.set_xlim([0,5])"
   ]
  },
  {
   "cell_type": "code",
   "execution_count": 4,
   "id": "f57cf990",
   "metadata": {},
   "outputs": [],
   "source": [
    "\n",
    "import pandas as pd\n",
    "\n",
    "\n",
    "df = pd.DataFrame(expt_n_t_sta1)\n",
    "\n",
    "df.to_csv('exno4fq.csv', index=False)"
   ]
  },
  {
   "cell_type": "code",
   "execution_count": null,
   "id": "f41597cc",
   "metadata": {},
   "outputs": [],
   "source": []
  },
  {
   "cell_type": "code",
   "execution_count": 8,
   "id": "f2fea0e7-0d6c-464b-ad82-a7c9ac1d5630",
   "metadata": {},
   "outputs": [
    {
     "name": "stdout",
     "output_type": "stream",
     "text": [
      "[[-1, 0, 1, 2, 3], [-1, 4, 5, 6, 7], [-1, 8, 9, 10, 11], [-1, 12, 13, 14, 15]] [[-1, 2, 3, 4, 5], [-1, 6, 7, 8, 9], [-1, 10, 11, 12, 13], [-1, 14, 15, 16, 17]]\n"
     ]
    },
    {
     "name": "stderr",
     "output_type": "stream",
     "text": [
      "C:\\Anaconda3\\envs\\quspin\\lib\\site-packages\\ipykernel_launcher.py:53: MatplotlibDeprecationWarning: For X (21) and Y (10) with flat shading, the expected shape of A is (9, 20). Passing A ((1, 180)) is deprecated since 3.5 and will become an error two minor releases later.\n"
     ]
    },
    {
     "data": {
      "image/png": "[encoded data removed]",
      "text/plain": [
       "<Figure size 432x288 with 1 Axes>"
      ]
     },
     "metadata": {
      "needs_background": "light"
     },
     "output_type": "display_data"
    },
    {
     "data": {
      "image/png": "[encoded data removed]",
      "text/plain": [
       "<Figure size 576x432 with 1 Axes>"
      ]
     },
     "metadata": {},
     "output_type": "display_data"
    }
   ],
   "source": [
    "\n",
    "L=18# system size\n",
    "basis = spin_basis_1d(L,pauli=False,m=0) \n",
    "#i0 = basis.index(\"0110010101\") # pick state from basis set\n",
    "\n",
    "\n",
    "i0 = basis.index(\"010101011001010101\") # pick state from basis set\n",
    "psi01 = np.zeros(basis.Ns,dtype=np.float64)\n",
    "psi01[i0] = 1.0 # define state corresponding to the string \"111000\"\n",
    "psi0=(psi01)\n",
    "\n",
    "Jr=1# spin ring\n",
    "##### construct basis in the 0-total momentum and +1-parity sector\n",
    "# define PBC site-coupling lists for operators\n",
    "H0=[[-Jr,  4*i,(4*i+1),(4*i+2),(4*i+3)]  for i in range(L//4)] \n",
    "\n",
    "H1=[[-Jr,  4*i+2,(4*i+3),(4*i+4)%L,(4*i+5)%L]  for i in range(L//4)] \n",
    "print(H0,H1)\n",
    "no_checks = dict(check_herm=False,check_symm=False,check_pcon=False)\n",
    "# static and dynamic lists\n",
    "static0=[[\"+--+\",H0],[\"-++-\",H0],[\"+--+\",H1],[\"-++-\",H1]]\n",
    "\n",
    "dynamic=[]\n",
    "###### construct Hamiltonian\n",
    "Hd0=hamiltonian(static0,dynamic,basis=basis,**no_checks)\n",
    "#\n",
    "ttol=2\n",
    "step=100\n",
    "tlist1=np.linspace(0,ttol,step)\n",
    "\n",
    "psi_list=Hd0.evolve(psi0,0,tlist1)\n",
    "\n",
    "n_list = [hamiltonian([[\"z\",[[1.0,i]]]],[],basis=basis,dtype=np.float64,**no_checks) for i in range(L)]\n",
    "expt_n_t_sta1 = np.vstack([n.expt_value(psi_list).real for n in n_list]).T\n",
    "#print(expt_n_t_sta,psi_k)\n",
    "# for i in range(L):\n",
    "#     plt.plot(tlist1,expt_n_t_sta1[:,i],label=i)\n",
    "# plt.legend(loc=[1.01,0])\n",
    "# plt.ylim([-0.52,0.52])\n",
    "aa=np.zeros(step)\n",
    "for i in range(9):\n",
    "    aa+=expt_n_t_sta1[:,2*i]\n",
    "plt.plot(aa)\n",
    "aaa=[]\n",
    "for i in range(L):\n",
    "    aaa.append(expt_n_t_sta1[:,i])\n",
    "fig = plt.figure(figsize=[8,6],\n",
    "                 facecolor='w')\n",
    "aam0=np.mat(aaa)\n",
    "#ax2 = fig.add_axes([0.63,0.700,0.32,0.265])\n",
    "ax1 = fig.add_axes([0.150,0.100,0.5,0.37])\n",
    "\n",
    "xm, ym = np.meshgrid(np.linspace(-0.5,10.5,21)/20,np.linspace(-0.5,10.5,10))\n",
    "hd1=ax1.pcolormesh(xm,ym,aam0[::2,::5],cmap='coolwarm',shading='flat')"
   ]
  },
  {
   "cell_type": "code",
   "execution_count": 6,
   "id": "d0e00627",
   "metadata": {},
   "outputs": [],
   "source": [
    "aaa=[]\n",
    "for i in range(L):\n",
    "    aaa.append(expt_n_t_sta1[:,i])\n",
    "import pandas as pd\n",
    "\n",
    "\n",
    "df = pd.DataFrame(aaa)\n",
    "\n",
    "df.to_csv('exno4e.csv', index=False)\n"
   ]
  },
  {
   "cell_type": "code",
   "execution_count": null,
   "id": "1d7a3be6",
   "metadata": {},
   "outputs": [],
   "source": []
  },
  {
   "cell_type": "code",
   "execution_count": null,
   "id": "2b5d6b8d",
   "metadata": {},
   "outputs": [],
   "source": []
  }
 ],
 "metadata": {
  "kernelspec": {
   "display_name": "Python 3 (ipykernel)",
   "language": "python",
   "name": "python3"
  },
  "language_info": {
   "codemirror_mode": {
    "name": "ipython",
    "version": 3
   },
   "file_extension": ".py",
   "mimetype": "text/x-python",
   "name": "python",
   "nbconvert_exporter": "python",
   "pygments_lexer": "ipython3",
   "version": "3.7.13"
  }
 },
 "nbformat": 4,
 "nbformat_minor": 5
}
